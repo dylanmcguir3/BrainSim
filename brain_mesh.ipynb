{
 "cells": [
  {
   "cell_type": "code",
   "execution_count": null,
   "id": "589b109c",
   "metadata": {},
   "outputs": [
    {
     "name": "stdout",
     "output_type": "stream",
     "text": [
      "Requirement already satisfied: nibabel in /opt/homebrew/anaconda3/lib/python3.11/site-packages (5.3.2)\n",
      "Requirement already satisfied: trimesh in /opt/homebrew/anaconda3/lib/python3.11/site-packages (4.6.10)\n",
      "Requirement already satisfied: meshio in /opt/homebrew/anaconda3/lib/python3.11/site-packages (5.3.5)\n",
      "Requirement already satisfied: scikit-image in /opt/homebrew/anaconda3/lib/python3.11/site-packages (0.20.0)\n",
      "Requirement already satisfied: pyvista in /opt/homebrew/anaconda3/lib/python3.11/site-packages (0.45.2)\n",
      "Requirement already satisfied: importlib-resources>=5.12 in /opt/homebrew/anaconda3/lib/python3.11/site-packages (from nibabel) (6.5.2)\n",
      "Requirement already satisfied: numpy>=1.22 in /opt/homebrew/anaconda3/lib/python3.11/site-packages (from nibabel) (1.24.3)\n",
      "Requirement already satisfied: packaging>=20 in /opt/homebrew/anaconda3/lib/python3.11/site-packages (from nibabel) (23.1)\n",
      "Requirement already satisfied: typing-extensions>=4.6 in /opt/homebrew/anaconda3/lib/python3.11/site-packages (from nibabel) (4.7.1)\n",
      "Requirement already satisfied: rich in /opt/homebrew/anaconda3/lib/python3.11/site-packages (from meshio) (14.0.0)\n",
      "Requirement already satisfied: scipy>=1.8 in /opt/homebrew/anaconda3/lib/python3.11/site-packages (from scikit-image) (1.11.1)\n",
      "Requirement already satisfied: networkx>=2.8 in /opt/homebrew/anaconda3/lib/python3.11/site-packages (from scikit-image) (3.1)\n",
      "Requirement already satisfied: pillow>=9.0.1 in /opt/homebrew/anaconda3/lib/python3.11/site-packages (from scikit-image) (9.4.0)\n",
      "Requirement already satisfied: imageio>=2.4.1 in /opt/homebrew/anaconda3/lib/python3.11/site-packages (from scikit-image) (2.31.1)\n",
      "Requirement already satisfied: tifffile>=2019.7.26 in /opt/homebrew/anaconda3/lib/python3.11/site-packages (from scikit-image) (2021.11.2)\n",
      "Requirement already satisfied: PyWavelets>=1.1.1 in /opt/homebrew/anaconda3/lib/python3.11/site-packages (from scikit-image) (1.4.1)\n",
      "Requirement already satisfied: lazy_loader>=0.1 in /opt/homebrew/anaconda3/lib/python3.11/site-packages (from scikit-image) (0.2)\n",
      "Requirement already satisfied: matplotlib>=3.0.1 in /opt/homebrew/anaconda3/lib/python3.11/site-packages (from pyvista) (3.7.2)\n",
      "Requirement already satisfied: pooch in /opt/homebrew/anaconda3/lib/python3.11/site-packages (from pyvista) (1.8.2)\n",
      "Requirement already satisfied: scooby>=0.5.1 in /opt/homebrew/anaconda3/lib/python3.11/site-packages (from pyvista) (0.10.1)\n",
      "Requirement already satisfied: vtk!=9.4.0 in /opt/homebrew/anaconda3/lib/python3.11/site-packages (from pyvista) (9.4.2)\n",
      "Requirement already satisfied: contourpy>=1.0.1 in /opt/homebrew/anaconda3/lib/python3.11/site-packages (from matplotlib>=3.0.1->pyvista) (1.0.5)\n",
      "Requirement already satisfied: cycler>=0.10 in /opt/homebrew/anaconda3/lib/python3.11/site-packages (from matplotlib>=3.0.1->pyvista) (0.11.0)\n",
      "Requirement already satisfied: fonttools>=4.22.0 in /opt/homebrew/anaconda3/lib/python3.11/site-packages (from matplotlib>=3.0.1->pyvista) (4.25.0)\n",
      "Requirement already satisfied: kiwisolver>=1.0.1 in /opt/homebrew/anaconda3/lib/python3.11/site-packages (from matplotlib>=3.0.1->pyvista) (1.4.4)\n",
      "Requirement already satisfied: pyparsing<3.1,>=2.3.1 in /opt/homebrew/anaconda3/lib/python3.11/site-packages (from matplotlib>=3.0.1->pyvista) (3.0.9)\n",
      "Requirement already satisfied: python-dateutil>=2.7 in /opt/homebrew/anaconda3/lib/python3.11/site-packages (from matplotlib>=3.0.1->pyvista) (2.8.2)\n",
      "Requirement already satisfied: platformdirs>=2.5.0 in /opt/homebrew/anaconda3/lib/python3.11/site-packages (from pooch->pyvista) (3.10.0)\n",
      "Requirement already satisfied: requests>=2.19.0 in /opt/homebrew/anaconda3/lib/python3.11/site-packages (from pooch->pyvista) (2.31.0)\n",
      "Requirement already satisfied: markdown-it-py>=2.2.0 in /opt/homebrew/anaconda3/lib/python3.11/site-packages (from rich->meshio) (2.2.0)\n",
      "Requirement already satisfied: pygments<3.0.0,>=2.13.0 in /opt/homebrew/anaconda3/lib/python3.11/site-packages (from rich->meshio) (2.15.1)\n",
      "Requirement already satisfied: mdurl~=0.1 in /opt/homebrew/anaconda3/lib/python3.11/site-packages (from markdown-it-py>=2.2.0->rich->meshio) (0.1.0)\n",
      "Requirement already satisfied: six>=1.5 in /opt/homebrew/anaconda3/lib/python3.11/site-packages (from python-dateutil>=2.7->matplotlib>=3.0.1->pyvista) (1.16.0)\n",
      "Requirement already satisfied: charset-normalizer<4,>=2 in /opt/homebrew/anaconda3/lib/python3.11/site-packages (from requests>=2.19.0->pooch->pyvista) (2.0.4)\n",
      "Requirement already satisfied: idna<4,>=2.5 in /opt/homebrew/anaconda3/lib/python3.11/site-packages (from requests>=2.19.0->pooch->pyvista) (3.4)\n",
      "Requirement already satisfied: urllib3<3,>=1.21.1 in /opt/homebrew/anaconda3/lib/python3.11/site-packages (from requests>=2.19.0->pooch->pyvista) (1.26.16)\n",
      "Requirement already satisfied: certifi>=2017.4.17 in /opt/homebrew/anaconda3/lib/python3.11/site-packages (from requests>=2.19.0->pooch->pyvista) (2025.1.31)\n",
      "Note: you may need to restart the kernel to use updated packages.\n"
     ]
    }
   ],
   "source": [
    "%pip install nibabel trimesh meshio scikit-image pyvista\n",
    "import os\n",
    "import nibabel as nib\n",
    "import numpy as np\n",
    "import trimesh\n",
    "import meshio\n",
    "from skimage import measure\n",
    "from scipy.ndimage import zoom\n"
   ]
  },
  {
   "cell_type": "code",
   "execution_count": 8,
   "id": "2086fa68",
   "metadata": {},
   "outputs": [],
   "source": [
    "import nibabel as nib\n",
    "import numpy as np\n",
    "\n",
    "wm = nib.load(\"output 3/subject01/mri/segmentation_masks/combined_gm_mask.nii.gz\")\n",
    "gm = nib.load(\"output 3/subject01/mri/segmentation_masks/combined_wm_mask.nii.gz\")\n",
    "\n",
    "wm_data = wm.get_fdata()\n",
    "gm_data = gm.get_fdata()\n",
    "\n",
    "# Create labeled volume: 1 = WM, 2 = GM\n",
    "combined = np.zeros_like(wm_data)\n",
    "combined[wm_data > 0] = 1\n",
    "combined[gm_data > 0] = 2\n",
    "\n",
    "data = combined\n",
    "\n",
    "\n",
    "# Apply a threshold to create a binary mask (0 = non-brain, 1 = brain)\n",
    "threshold_value = 0.5  # Adjust as necessary\n",
    "brain_mask = np.where(data > threshold_value, 1, 0)  # Create a binary brain mask\n"
   ]
  },
  {
   "cell_type": "code",
   "execution_count": null,
   "id": "de5f838c",
   "metadata": {},
   "outputs": [],
   "source": [
    "from skimage import measure\n",
    "import trimesh\n",
    "\n",
    "# Use label 1 and 2 separately or together\n",
    "verts, faces, _, _ = measure.marching_cubes(brain_mask, level=0.5)\n",
    "\n",
    "mesh = trimesh.Trimesh(vertices=verts, faces=faces)\n",
    "mesh.export(\"brain.stl\")\n"
   ]
  }
 ],
 "metadata": {
  "kernelspec": {
   "display_name": "Python 3",
   "language": "python",
   "name": "python3"
  },
  "language_info": {
   "codemirror_mode": {
    "name": "ipython",
    "version": 3
   },
   "file_extension": ".py",
   "mimetype": "text/x-python",
   "name": "python",
   "nbconvert_exporter": "python",
   "pygments_lexer": "ipython3",
   "version": "3.11.8"
  }
 },
 "nbformat": 4,
 "nbformat_minor": 5
}
